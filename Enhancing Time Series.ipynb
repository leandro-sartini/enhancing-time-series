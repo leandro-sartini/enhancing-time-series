{
 "cells": [
  {
   "cell_type": "markdown",
   "id": "9f3d51df",
   "metadata": {},
   "source": [
    "## Enhancing Time Series |  Methods & How to "
   ]
  },
  {
   "cell_type": "markdown",
   "id": "0194d75f",
   "metadata": {},
   "source": [
    "<b> First let's start by importing the libs we need"
   ]
  },
  {
   "cell_type": "code",
   "execution_count": 1,
   "id": "3c3f7ea4",
   "metadata": {},
   "outputs": [],
   "source": [
    "from xgboost import XGBRegressor\n",
    "from prophet import Prophet\n",
    "import pandas as pd\n",
    "import seaborn as sns\n",
    "import matplotlib.pyplot as plt\n",
    "from sklearn.metrics import mean_absolute_error"
   ]
  },
  {
   "cell_type": "markdown",
   "id": "4e054962",
   "metadata": {},
   "source": [
    "<b> For these tests we will be using House Property Sales dataset https://www.kaggle.com/datasets/htagholdings/property-sales?select=raw_sales.csv"
   ]
  },
  {
   "cell_type": "code",
   "execution_count": 2,
   "id": "0111818f",
   "metadata": {},
   "outputs": [],
   "source": [
    "df = pd.read_csv('raw_sales.csv')"
   ]
  },
  {
   "cell_type": "markdown",
   "id": "8b915d59",
   "metadata": {},
   "source": [
    "<b> Let's first check our dataframe and see if we need to make some improvements to the df"
   ]
  },
  {
   "cell_type": "code",
   "execution_count": 3,
   "id": "564cd648",
   "metadata": {},
   "outputs": [
    {
     "data": {
      "text/plain": [
       "(29580, 5)"
      ]
     },
     "execution_count": 3,
     "metadata": {},
     "output_type": "execute_result"
    }
   ],
   "source": [
    "df.shape"
   ]
  },
  {
   "cell_type": "code",
   "execution_count": 4,
   "id": "16242c36",
   "metadata": {},
   "outputs": [
    {
     "data": {
      "text/plain": [
       "datesold        object\n",
       "postcode         int64\n",
       "price            int64\n",
       "propertyType    object\n",
       "bedrooms         int64\n",
       "dtype: object"
      ]
     },
     "execution_count": 4,
     "metadata": {},
     "output_type": "execute_result"
    }
   ],
   "source": [
    "df.dtypes"
   ]
  },
  {
   "cell_type": "markdown",
   "id": "54a987f9",
   "metadata": {},
   "source": [
    "<b> Let's correct our time column"
   ]
  },
  {
   "cell_type": "code",
   "execution_count": 5,
   "id": "145cd39d",
   "metadata": {},
   "outputs": [],
   "source": [
    "df['datesold'] = pd.to_datetime(df['datesold'])"
   ]
  },
  {
   "cell_type": "code",
   "execution_count": 6,
   "id": "acef70fe",
   "metadata": {},
   "outputs": [
    {
     "data": {
      "text/html": [
       "<div>\n",
       "<style scoped>\n",
       "    .dataframe tbody tr th:only-of-type {\n",
       "        vertical-align: middle;\n",
       "    }\n",
       "\n",
       "    .dataframe tbody tr th {\n",
       "        vertical-align: top;\n",
       "    }\n",
       "\n",
       "    .dataframe thead th {\n",
       "        text-align: right;\n",
       "    }\n",
       "</style>\n",
       "<table border=\"1\" class=\"dataframe\">\n",
       "  <thead>\n",
       "    <tr style=\"text-align: right;\">\n",
       "      <th></th>\n",
       "      <th>datesold</th>\n",
       "      <th>postcode</th>\n",
       "      <th>price</th>\n",
       "      <th>propertyType</th>\n",
       "      <th>bedrooms</th>\n",
       "    </tr>\n",
       "  </thead>\n",
       "  <tbody>\n",
       "    <tr>\n",
       "      <th>3281</th>\n",
       "      <td>2010-12-15</td>\n",
       "      <td>2615</td>\n",
       "      <td>497000</td>\n",
       "      <td>house</td>\n",
       "      <td>4</td>\n",
       "    </tr>\n",
       "    <tr>\n",
       "      <th>22709</th>\n",
       "      <td>2018-09-03</td>\n",
       "      <td>2914</td>\n",
       "      <td>705000</td>\n",
       "      <td>house</td>\n",
       "      <td>4</td>\n",
       "    </tr>\n",
       "  </tbody>\n",
       "</table>\n",
       "</div>"
      ],
      "text/plain": [
       "        datesold  postcode   price propertyType  bedrooms\n",
       "3281  2010-12-15      2615  497000        house         4\n",
       "22709 2018-09-03      2914  705000        house         4"
      ]
     },
     "execution_count": 6,
     "metadata": {},
     "output_type": "execute_result"
    }
   ],
   "source": [
    "df.sample(2)"
   ]
  },
  {
   "cell_type": "code",
   "execution_count": 7,
   "id": "8a3d125f",
   "metadata": {},
   "outputs": [
    {
     "data": {
      "text/plain": [
       "array(['house', 'unit'], dtype=object)"
      ]
     },
     "execution_count": 7,
     "metadata": {},
     "output_type": "execute_result"
    }
   ],
   "source": [
    "df['propertyType'].unique()"
   ]
  },
  {
   "cell_type": "code",
   "execution_count": 8,
   "id": "6a886528",
   "metadata": {},
   "outputs": [
    {
     "data": {
      "text/plain": [
       "27"
      ]
     },
     "execution_count": 8,
     "metadata": {},
     "output_type": "execute_result"
    }
   ],
   "source": [
    "df['postcode'].nunique()"
   ]
  },
  {
   "cell_type": "markdown",
   "id": "f8f921f1",
   "metadata": {},
   "source": [
    "<b> Let's suppose we want a model that can predict price of houses and units.\n",
    "    <br>     We will start with Prophet"
   ]
  },
  {
   "cell_type": "markdown",
   "id": "46af5b09",
   "metadata": {},
   "source": [
    "<b> To use prophet correct we need to transform the data column name to ds and the output in y"
   ]
  },
  {
   "cell_type": "code",
   "execution_count": 9,
   "id": "73a307e8",
   "metadata": {},
   "outputs": [],
   "source": [
    "df.rename(columns = {'datesold' : 'ds', 'price' : 'y'},inplace = True)"
   ]
  },
  {
   "cell_type": "code",
   "execution_count": 10,
   "id": "05bda120",
   "metadata": {},
   "outputs": [
    {
     "data": {
      "text/html": [
       "<div>\n",
       "<style scoped>\n",
       "    .dataframe tbody tr th:only-of-type {\n",
       "        vertical-align: middle;\n",
       "    }\n",
       "\n",
       "    .dataframe tbody tr th {\n",
       "        vertical-align: top;\n",
       "    }\n",
       "\n",
       "    .dataframe thead th {\n",
       "        text-align: right;\n",
       "    }\n",
       "</style>\n",
       "<table border=\"1\" class=\"dataframe\">\n",
       "  <thead>\n",
       "    <tr style=\"text-align: right;\">\n",
       "      <th></th>\n",
       "      <th>ds</th>\n",
       "      <th>postcode</th>\n",
       "      <th>y</th>\n",
       "      <th>propertyType</th>\n",
       "      <th>bedrooms</th>\n",
       "    </tr>\n",
       "  </thead>\n",
       "  <tbody>\n",
       "    <tr>\n",
       "      <th>10580</th>\n",
       "      <td>2014-12-08</td>\n",
       "      <td>2602</td>\n",
       "      <td>695000</td>\n",
       "      <td>house</td>\n",
       "      <td>4</td>\n",
       "    </tr>\n",
       "    <tr>\n",
       "      <th>398</th>\n",
       "      <td>2008-09-30</td>\n",
       "      <td>2913</td>\n",
       "      <td>367500</td>\n",
       "      <td>house</td>\n",
       "      <td>4</td>\n",
       "    </tr>\n",
       "  </tbody>\n",
       "</table>\n",
       "</div>"
      ],
      "text/plain": [
       "              ds  postcode       y propertyType  bedrooms\n",
       "10580 2014-12-08      2602  695000        house         4\n",
       "398   2008-09-30      2913  367500        house         4"
      ]
     },
     "execution_count": 10,
     "metadata": {},
     "output_type": "execute_result"
    }
   ],
   "source": [
    "df.sample(2)"
   ]
  },
  {
   "cell_type": "markdown",
   "id": "2c9960d3",
   "metadata": {},
   "source": [
    "<b> Now, what we also need is to define our train, test and validation."
   ]
  },
  {
   "cell_type": "code",
   "execution_count": 11,
   "id": "4f950d93",
   "metadata": {},
   "outputs": [
    {
     "data": {
      "text/plain": [
       "Timestamp('2007-02-07 00:00:00')"
      ]
     },
     "execution_count": 11,
     "metadata": {},
     "output_type": "execute_result"
    }
   ],
   "source": [
    "df['ds'].min()"
   ]
  },
  {
   "cell_type": "code",
   "execution_count": 12,
   "id": "49435e30",
   "metadata": {},
   "outputs": [
    {
     "data": {
      "text/plain": [
       "Timestamp('2019-07-27 00:00:00')"
      ]
     },
     "execution_count": 12,
     "metadata": {},
     "output_type": "execute_result"
    }
   ],
   "source": [
    "df['ds'].max()"
   ]
  },
  {
   "cell_type": "markdown",
   "id": "2217554c",
   "metadata": {},
   "source": [
    "<b> Let's use the final 2 months as our validation, and let's do a test with 1 month of data."
   ]
  },
  {
   "cell_type": "code",
   "execution_count": 15,
   "id": "c9685869",
   "metadata": {},
   "outputs": [],
   "source": [
    "train_df = df.loc[(df['ds'] < '2019-05-01') & (df['postcode'] == 2602)].reset_index(drop = True).copy()"
   ]
  },
  {
   "cell_type": "code",
   "execution_count": 16,
   "id": "448d16dd",
   "metadata": {},
   "outputs": [],
   "source": [
    "test_df = df.loc[(df['ds'].between('2019-05-01','2019-05-31')) & (df['postcode'] == 2602)].reset_index(drop = True).copy()"
   ]
  },
  {
   "cell_type": "code",
   "execution_count": 17,
   "id": "3b16ed6b",
   "metadata": {},
   "outputs": [],
   "source": [
    "val_df = df.loc[(df['ds'] >= '2019-05-31') & (df['postcode'] == 2602)].reset_index(drop = True).copy()"
   ]
  },
  {
   "cell_type": "markdown",
   "id": "8bf9acaa",
   "metadata": {},
   "source": [
    "<b> Now prophet isn't too much of a category friend so if we wanted one model per type of property we would have two models, and if we wanted one model per postal code and type we could have 54 models which is the n of type's * n of postal codes\n",
    "    <br> let's go simple and go with one model for houses."
   ]
  },
  {
   "cell_type": "code",
   "execution_count": 18,
   "id": "cb857a82",
   "metadata": {},
   "outputs": [],
   "source": [
    "ts_model = Prophet()"
   ]
  },
  {
   "cell_type": "code",
   "execution_count": 19,
   "id": "cef67e63",
   "metadata": {},
   "outputs": [],
   "source": [
    "train_houses = train_df.loc[train_df['propertyType'] == 'house'].reset_index(drop = True).copy()\n",
    "test_houses = test_df.loc[test_df['propertyType'] == 'house'].reset_index(drop = True).copy()"
   ]
  },
  {
   "cell_type": "code",
   "execution_count": 20,
   "id": "6d36b9b3",
   "metadata": {
    "scrolled": true
   },
   "outputs": [
    {
     "name": "stderr",
     "output_type": "stream",
     "text": [
      "INFO:prophet:Disabling daily seasonality. Run prophet with daily_seasonality=True to override this.\n"
     ]
    },
    {
     "data": {
      "text/plain": [
       "<prophet.forecaster.Prophet at 0x1be3f873a90>"
      ]
     },
     "execution_count": 20,
     "metadata": {},
     "output_type": "execute_result"
    }
   ],
   "source": [
    "ts_model.fit(train_houses)"
   ]
  },
  {
   "cell_type": "markdown",
   "id": "24595305",
   "metadata": {},
   "source": [
    "<b> From this point on our prophet has been trained, easy! Now we could be enhancing our model by moving the hyperparameters, and comparing against our test! Let's take a glimpse"
   ]
  },
  {
   "cell_type": "code",
   "execution_count": 21,
   "id": "72b6db13",
   "metadata": {},
   "outputs": [
    {
     "data": {
      "text/plain": [
       "309436.94382434513"
      ]
     },
     "execution_count": 21,
     "metadata": {},
     "output_type": "execute_result"
    }
   ],
   "source": [
    "mean_absolute_error(test_df['y'],ts_model.predict(test_df)['yhat'])"
   ]
  },
  {
   "cell_type": "code",
   "execution_count": 22,
   "id": "becf3cdd",
   "metadata": {},
   "outputs": [],
   "source": [
    "ts_model_hyper = Prophet(seasonality_prior_scale=15.0,\n",
    "                         holidays_prior_scale=20.0,\n",
    "                         changepoint_prior_scale=0.1)"
   ]
  },
  {
   "cell_type": "code",
   "execution_count": 23,
   "id": "40c1ddad",
   "metadata": {
    "scrolled": true
   },
   "outputs": [
    {
     "name": "stderr",
     "output_type": "stream",
     "text": [
      "INFO:prophet:Disabling daily seasonality. Run prophet with daily_seasonality=True to override this.\n"
     ]
    },
    {
     "data": {
      "text/plain": [
       "<prophet.forecaster.Prophet at 0x1be408db820>"
      ]
     },
     "execution_count": 23,
     "metadata": {},
     "output_type": "execute_result"
    }
   ],
   "source": [
    "ts_model_hyper.fit(train_houses)"
   ]
  },
  {
   "cell_type": "code",
   "execution_count": 24,
   "id": "0e78f143",
   "metadata": {},
   "outputs": [
    {
     "data": {
      "text/plain": [
       "293778.05803002394"
      ]
     },
     "execution_count": 24,
     "metadata": {},
     "output_type": "execute_result"
    }
   ],
   "source": [
    "mean_absolute_error(test_df['y'],ts_model_hyper.predict(test_df)['yhat'])"
   ]
  },
  {
   "cell_type": "markdown",
   "id": "bf6aecf6",
   "metadata": {},
   "source": [
    "<b> From this point on to enhance with hyperparameters by themselves, the best option would by a Search Grid. So let's validate in our val_df"
   ]
  },
  {
   "cell_type": "code",
   "execution_count": 25,
   "id": "f4f56ac7",
   "metadata": {},
   "outputs": [
    {
     "data": {
      "text/plain": [
       "363839.712125795"
      ]
     },
     "execution_count": 25,
     "metadata": {},
     "output_type": "execute_result"
    }
   ],
   "source": [
    "mean_absolute_error(val_df['y'],ts_model.predict(val_df)['yhat'])"
   ]
  },
  {
   "cell_type": "code",
   "execution_count": 26,
   "id": "d31dd1ac",
   "metadata": {},
   "outputs": [
    {
     "data": {
      "text/plain": [
       "343883.70855595445"
      ]
     },
     "execution_count": 26,
     "metadata": {},
     "output_type": "execute_result"
    }
   ],
   "source": [
    "mean_absolute_error(val_df['y'],ts_model_hyper.predict(val_df)['yhat'])"
   ]
  },
  {
   "cell_type": "markdown",
   "id": "c8a7bf3b",
   "metadata": {},
   "source": [
    "<b> We get a model, that has an error pretty like our tests, it deprecated just a little bit which is normal but is useful."
   ]
  },
  {
   "cell_type": "code",
   "execution_count": 27,
   "id": "1fd9f1be",
   "metadata": {},
   "outputs": [],
   "source": [
    "############################################"
   ]
  },
  {
   "cell_type": "markdown",
   "id": "dd91aa13",
   "metadata": {},
   "source": [
    "## Let's change to XGBoost"
   ]
  },
  {
   "cell_type": "markdown",
   "id": "2f674c2a",
   "metadata": {},
   "source": [
    "<b> With XGBoost we will have to do a little bit of variable engineering, so let's start by transforming propertyType in bool"
   ]
  },
  {
   "cell_type": "code",
   "execution_count": 28,
   "id": "cd571440",
   "metadata": {},
   "outputs": [],
   "source": [
    "df['property_type'] = df['propertyType'].map({'house' : 1, 'unit' : 0})"
   ]
  },
  {
   "cell_type": "code",
   "execution_count": 29,
   "id": "88475fed",
   "metadata": {},
   "outputs": [],
   "source": [
    "df_xgb = df.copy()"
   ]
  },
  {
   "cell_type": "markdown",
   "id": "f013fc3b",
   "metadata": {},
   "source": [
    "<b> Now XGBoost won't understand data columns so we have to create the specific columns for each variable"
   ]
  },
  {
   "cell_type": "code",
   "execution_count": 30,
   "id": "2baab472",
   "metadata": {},
   "outputs": [],
   "source": [
    "df_xgb['day'] = df_xgb['ds'].dt.day\n",
    "df_xgb['month'] = df_xgb['ds'].dt.month\n",
    "df_xgb['year'] = df_xgb['ds'].dt.year"
   ]
  },
  {
   "cell_type": "code",
   "execution_count": 31,
   "id": "7fd56603",
   "metadata": {},
   "outputs": [
    {
     "data": {
      "text/html": [
       "<div>\n",
       "<style scoped>\n",
       "    .dataframe tbody tr th:only-of-type {\n",
       "        vertical-align: middle;\n",
       "    }\n",
       "\n",
       "    .dataframe tbody tr th {\n",
       "        vertical-align: top;\n",
       "    }\n",
       "\n",
       "    .dataframe thead th {\n",
       "        text-align: right;\n",
       "    }\n",
       "</style>\n",
       "<table border=\"1\" class=\"dataframe\">\n",
       "  <thead>\n",
       "    <tr style=\"text-align: right;\">\n",
       "      <th></th>\n",
       "      <th>ds</th>\n",
       "      <th>postcode</th>\n",
       "      <th>y</th>\n",
       "      <th>propertyType</th>\n",
       "      <th>bedrooms</th>\n",
       "      <th>property_type</th>\n",
       "      <th>day</th>\n",
       "      <th>month</th>\n",
       "      <th>year</th>\n",
       "    </tr>\n",
       "  </thead>\n",
       "  <tbody>\n",
       "    <tr>\n",
       "      <th>19483</th>\n",
       "      <td>2017-09-20</td>\n",
       "      <td>2906</td>\n",
       "      <td>675000</td>\n",
       "      <td>house</td>\n",
       "      <td>4</td>\n",
       "      <td>1</td>\n",
       "      <td>20</td>\n",
       "      <td>9</td>\n",
       "      <td>2017</td>\n",
       "    </tr>\n",
       "    <tr>\n",
       "      <th>21867</th>\n",
       "      <td>2018-05-18</td>\n",
       "      <td>2617</td>\n",
       "      <td>900000</td>\n",
       "      <td>house</td>\n",
       "      <td>5</td>\n",
       "      <td>1</td>\n",
       "      <td>18</td>\n",
       "      <td>5</td>\n",
       "      <td>2018</td>\n",
       "    </tr>\n",
       "  </tbody>\n",
       "</table>\n",
       "</div>"
      ],
      "text/plain": [
       "              ds  postcode       y propertyType  bedrooms  property_type  day  \\\n",
       "19483 2017-09-20      2906  675000        house         4              1   20   \n",
       "21867 2018-05-18      2617  900000        house         5              1   18   \n",
       "\n",
       "       month  year  \n",
       "19483      9  2017  \n",
       "21867      5  2018  "
      ]
     },
     "execution_count": 31,
     "metadata": {},
     "output_type": "execute_result"
    }
   ],
   "source": [
    "df_xgb.sample(2)"
   ]
  },
  {
   "cell_type": "markdown",
   "id": "e0a81d83",
   "metadata": {},
   "source": [
    "<b> Now our other biggest step is to create the sliding window, for this test we will be using 28 days as our sliding window"
   ]
  },
  {
   "cell_type": "code",
   "execution_count": 32,
   "id": "aae087b8",
   "metadata": {},
   "outputs": [],
   "source": [
    "df_xgb.sort_values(['propertyType','postcode','ds'],ignore_index = True,inplace = True)"
   ]
  },
  {
   "cell_type": "code",
   "execution_count": 33,
   "id": "e297f861",
   "metadata": {},
   "outputs": [
    {
     "data": {
      "text/html": [
       "<div>\n",
       "<style scoped>\n",
       "    .dataframe tbody tr th:only-of-type {\n",
       "        vertical-align: middle;\n",
       "    }\n",
       "\n",
       "    .dataframe tbody tr th {\n",
       "        vertical-align: top;\n",
       "    }\n",
       "\n",
       "    .dataframe thead th {\n",
       "        text-align: right;\n",
       "    }\n",
       "</style>\n",
       "<table border=\"1\" class=\"dataframe\">\n",
       "  <thead>\n",
       "    <tr style=\"text-align: right;\">\n",
       "      <th></th>\n",
       "      <th>ds</th>\n",
       "      <th>postcode</th>\n",
       "      <th>y</th>\n",
       "      <th>propertyType</th>\n",
       "      <th>bedrooms</th>\n",
       "      <th>property_type</th>\n",
       "      <th>day</th>\n",
       "      <th>month</th>\n",
       "      <th>year</th>\n",
       "    </tr>\n",
       "  </thead>\n",
       "  <tbody>\n",
       "    <tr>\n",
       "      <th>27007</th>\n",
       "      <td>2016-04-05</td>\n",
       "      <td>2607</td>\n",
       "      <td>185000</td>\n",
       "      <td>unit</td>\n",
       "      <td>1</td>\n",
       "      <td>0</td>\n",
       "      <td>5</td>\n",
       "      <td>4</td>\n",
       "      <td>2016</td>\n",
       "    </tr>\n",
       "    <tr>\n",
       "      <th>16075</th>\n",
       "      <td>2009-09-17</td>\n",
       "      <td>2905</td>\n",
       "      <td>450000</td>\n",
       "      <td>house</td>\n",
       "      <td>3</td>\n",
       "      <td>1</td>\n",
       "      <td>17</td>\n",
       "      <td>9</td>\n",
       "      <td>2009</td>\n",
       "    </tr>\n",
       "  </tbody>\n",
       "</table>\n",
       "</div>"
      ],
      "text/plain": [
       "              ds  postcode       y propertyType  bedrooms  property_type  day  \\\n",
       "27007 2016-04-05      2607  185000         unit         1              0    5   \n",
       "16075 2009-09-17      2905  450000        house         3              1   17   \n",
       "\n",
       "       month  year  \n",
       "27007      4  2016  \n",
       "16075      9  2009  "
      ]
     },
     "execution_count": 33,
     "metadata": {},
     "output_type": "execute_result"
    }
   ],
   "source": [
    "df_xgb.sample(2)"
   ]
  },
  {
   "cell_type": "markdown",
   "id": "4353ab40",
   "metadata": {},
   "source": [
    "<b> This is tricky, we have to group it by our other \"category\" variables and then we have to shift without the data so that the data remains on the grouped df"
   ]
  },
  {
   "cell_type": "code",
   "execution_count": 34,
   "id": "3e8a2d1f",
   "metadata": {},
   "outputs": [],
   "source": [
    "df_xgb['bedrooms_var'] = df_xgb.groupby(['propertyType','postcode'])['bedrooms'].shift(28)"
   ]
  },
  {
   "cell_type": "markdown",
   "id": "8001289a",
   "metadata": {},
   "source": [
    "<b> Final steps, let's do the separation by train,test and val"
   ]
  },
  {
   "cell_type": "code",
   "execution_count": 35,
   "id": "89fbd372",
   "metadata": {},
   "outputs": [],
   "source": [
    "train_df = df_xgb.loc[df_xgb['ds'] < '2019-05-01'].reset_index(drop = True).copy()"
   ]
  },
  {
   "cell_type": "code",
   "execution_count": 36,
   "id": "085910d6",
   "metadata": {},
   "outputs": [],
   "source": [
    "train_df = train_df.loc[train_df['bedrooms_var'].notnull()].reset_index(drop = True).copy()"
   ]
  },
  {
   "cell_type": "code",
   "execution_count": 37,
   "id": "84375f93",
   "metadata": {},
   "outputs": [],
   "source": [
    "test_df = df_xgb.loc[df_xgb['ds'].between('2019-05-01','2019-05-31')].reset_index(drop = True).copy()"
   ]
  },
  {
   "cell_type": "code",
   "execution_count": 38,
   "id": "b039be2b",
   "metadata": {},
   "outputs": [],
   "source": [
    "val_df = df_xgb.loc[df_xgb['ds'] >= '2019-05-31'].reset_index(drop = True).copy()"
   ]
  },
  {
   "cell_type": "markdown",
   "id": "d00a71f7",
   "metadata": {},
   "source": [
    "<b> Now as you can see, we don't have to create loads of models, just one XGBoost for all of them!"
   ]
  },
  {
   "cell_type": "code",
   "execution_count": 39,
   "id": "986a9e5f",
   "metadata": {},
   "outputs": [
    {
     "data": {
      "text/html": [
       "<div>\n",
       "<style scoped>\n",
       "    .dataframe tbody tr th:only-of-type {\n",
       "        vertical-align: middle;\n",
       "    }\n",
       "\n",
       "    .dataframe tbody tr th {\n",
       "        vertical-align: top;\n",
       "    }\n",
       "\n",
       "    .dataframe thead th {\n",
       "        text-align: right;\n",
       "    }\n",
       "</style>\n",
       "<table border=\"1\" class=\"dataframe\">\n",
       "  <thead>\n",
       "    <tr style=\"text-align: right;\">\n",
       "      <th></th>\n",
       "      <th>ds</th>\n",
       "      <th>postcode</th>\n",
       "      <th>y</th>\n",
       "      <th>propertyType</th>\n",
       "      <th>bedrooms</th>\n",
       "      <th>property_type</th>\n",
       "      <th>day</th>\n",
       "      <th>month</th>\n",
       "      <th>year</th>\n",
       "      <th>bedrooms_var</th>\n",
       "    </tr>\n",
       "  </thead>\n",
       "  <tbody>\n",
       "    <tr>\n",
       "      <th>6664</th>\n",
       "      <td>2019-03-14</td>\n",
       "      <td>2611</td>\n",
       "      <td>1228000</td>\n",
       "      <td>house</td>\n",
       "      <td>4</td>\n",
       "      <td>1</td>\n",
       "      <td>14</td>\n",
       "      <td>3</td>\n",
       "      <td>2019</td>\n",
       "      <td>4.0</td>\n",
       "    </tr>\n",
       "    <tr>\n",
       "      <th>2306</th>\n",
       "      <td>2018-10-22</td>\n",
       "      <td>2602</td>\n",
       "      <td>850000</td>\n",
       "      <td>house</td>\n",
       "      <td>3</td>\n",
       "      <td>1</td>\n",
       "      <td>22</td>\n",
       "      <td>10</td>\n",
       "      <td>2018</td>\n",
       "      <td>3.0</td>\n",
       "    </tr>\n",
       "  </tbody>\n",
       "</table>\n",
       "</div>"
      ],
      "text/plain": [
       "             ds  postcode        y propertyType  bedrooms  property_type  day  \\\n",
       "6664 2019-03-14      2611  1228000        house         4              1   14   \n",
       "2306 2018-10-22      2602   850000        house         3              1   22   \n",
       "\n",
       "      month  year  bedrooms_var  \n",
       "6664      3  2019           4.0  \n",
       "2306     10  2018           3.0  "
      ]
     },
     "execution_count": 39,
     "metadata": {},
     "output_type": "execute_result"
    }
   ],
   "source": [
    "train_df.sample(2)"
   ]
  },
  {
   "cell_type": "code",
   "execution_count": 40,
   "id": "1e2029e6",
   "metadata": {},
   "outputs": [],
   "source": [
    "xgb_model = XGBRegressor(n_estimators = 800)"
   ]
  },
  {
   "cell_type": "code",
   "execution_count": 41,
   "id": "fd021d15",
   "metadata": {},
   "outputs": [
    {
     "data": {
      "text/plain": [
       "XGBRegressor(base_score=0.5, booster='gbtree', colsample_bylevel=1,\n",
       "             colsample_bynode=1, colsample_bytree=1, enable_categorical=False,\n",
       "             gamma=0, gpu_id=-1, importance_type=None,\n",
       "             interaction_constraints='', learning_rate=0.300000012,\n",
       "             max_delta_step=0, max_depth=6, min_child_weight=1, missing=nan,\n",
       "             monotone_constraints='()', n_estimators=800, n_jobs=8,\n",
       "             num_parallel_tree=1, predictor='auto', random_state=0, reg_alpha=0,\n",
       "             reg_lambda=1, scale_pos_weight=1, subsample=1, tree_method='exact',\n",
       "             validate_parameters=1, verbosity=None)"
      ]
     },
     "execution_count": 41,
     "metadata": {},
     "output_type": "execute_result"
    }
   ],
   "source": [
    "xgb_model.fit(train_df[['property_type','postcode','year','month','day','bedrooms_var']],train_df['y'])"
   ]
  },
  {
   "cell_type": "code",
   "execution_count": 42,
   "id": "0a3dd98e",
   "metadata": {},
   "outputs": [
    {
     "data": {
      "text/plain": [
       "218721.28935185185"
      ]
     },
     "execution_count": 42,
     "metadata": {},
     "output_type": "execute_result"
    }
   ],
   "source": [
    "mean_absolute_error(test_df.loc[(test_df['property_type'] == 1) & (df['postcode'] == 2602)]['y'],xgb_model.predict(test_df.loc[(test_df['property_type'] == 1) & (df['postcode'] == 2602) ][['property_type','postcode','year','month','day','bedrooms_var']]))"
   ]
  },
  {
   "cell_type": "markdown",
   "id": "648f3ff1",
   "metadata": {},
   "source": [
    "<b> With a little bit more of work we could get out xgb to predict 1 month ahead with 40K less price error than the prophet"
   ]
  },
  {
   "cell_type": "markdown",
   "id": "936afee9",
   "metadata": {},
   "source": [
    "<b> From this point on our prophet has been trained, easy! Now we could be enhancing our model by moving the hyperparameters, and comparing against our test! Let's take a glimpse"
   ]
  },
  {
   "cell_type": "code",
   "execution_count": 43,
   "id": "700a9843",
   "metadata": {},
   "outputs": [],
   "source": [
    "xgb_model_hyper = XGBRegressor(n_estimators = 1500,learning_rate = 0.003)"
   ]
  },
  {
   "cell_type": "code",
   "execution_count": 44,
   "id": "aff5199f",
   "metadata": {},
   "outputs": [
    {
     "data": {
      "text/plain": [
       "XGBRegressor(base_score=0.5, booster='gbtree', colsample_bylevel=1,\n",
       "             colsample_bynode=1, colsample_bytree=1, enable_categorical=False,\n",
       "             gamma=0, gpu_id=-1, importance_type=None,\n",
       "             interaction_constraints='', learning_rate=0.003, max_delta_step=0,\n",
       "             max_depth=6, min_child_weight=1, missing=nan,\n",
       "             monotone_constraints='()', n_estimators=1500, n_jobs=8,\n",
       "             num_parallel_tree=1, predictor='auto', random_state=0, reg_alpha=0,\n",
       "             reg_lambda=1, scale_pos_weight=1, subsample=1, tree_method='exact',\n",
       "             validate_parameters=1, verbosity=None)"
      ]
     },
     "execution_count": 44,
     "metadata": {},
     "output_type": "execute_result"
    }
   ],
   "source": [
    "xgb_model_hyper.fit(train_df[['property_type','postcode','year','month','day','bedrooms_var']],train_df['y'])"
   ]
  },
  {
   "cell_type": "code",
   "execution_count": 45,
   "id": "2c669895",
   "metadata": {},
   "outputs": [
    {
     "data": {
      "text/plain": [
       "170804.36342592593"
      ]
     },
     "execution_count": 45,
     "metadata": {},
     "output_type": "execute_result"
    }
   ],
   "source": [
    "mean_absolute_error(test_df.loc[(test_df['property_type'] == 1) & (df['postcode'] == 2602)]['y'],xgb_model_hyper.predict(test_df.loc[(test_df['property_type'] == 1) & (df['postcode'] == 2602)][['property_type','postcode','year','month','day','bedrooms_var']]))"
   ]
  },
  {
   "cell_type": "markdown",
   "id": "1a723ff3",
   "metadata": {},
   "source": [
    "<b> Moving a little bit someparameters we could enhance it even more in test, now let's check in validation"
   ]
  },
  {
   "cell_type": "code",
   "execution_count": 46,
   "id": "67cd57dd",
   "metadata": {},
   "outputs": [
    {
     "data": {
      "text/plain": [
       "146561.56173780488"
      ]
     },
     "execution_count": 46,
     "metadata": {},
     "output_type": "execute_result"
    }
   ],
   "source": [
    "mean_absolute_error(val_df.loc[(val_df['property_type'] == 1) & (df['postcode'] == 2602)]['y'],xgb_model.predict(val_df.loc[(val_df['property_type'] == 1) & (df['postcode'] == 2602)][['property_type','postcode','year','month','day','bedrooms_var']]))"
   ]
  },
  {
   "cell_type": "code",
   "execution_count": 48,
   "id": "9655f536",
   "metadata": {},
   "outputs": [
    {
     "data": {
      "text/plain": [
       "132822.0030487805"
      ]
     },
     "execution_count": 48,
     "metadata": {},
     "output_type": "execute_result"
    }
   ],
   "source": [
    "mean_absolute_error(val_df.loc[(val_df['property_type'] == 1) & (df['postcode'] == 2602)]['y'],xgb_model_hyper.predict(val_df.loc[(val_df['property_type'] == 1) & (df['postcode'] == 2602)][['property_type','postcode','year','month','day','bedrooms_var']]))"
   ]
  },
  {
   "cell_type": "markdown",
   "id": "5c07a7ee",
   "metadata": {},
   "source": [
    "<b> That's it! I hope you enjoyed the class and the material.\n",
    "    <br> In case you need any help, i will be happy to help! You can contact me via LinkedIn https://www.linkedin.com/in/leandro-sartini-de-campos-64343915b/"
   ]
  }
 ],
 "metadata": {
  "kernelspec": {
   "display_name": "Python 3 (ipykernel)",
   "language": "python",
   "name": "python3"
  },
  "language_info": {
   "codemirror_mode": {
    "name": "ipython",
    "version": 3
   },
   "file_extension": ".py",
   "mimetype": "text/x-python",
   "name": "python",
   "nbconvert_exporter": "python",
   "pygments_lexer": "ipython3",
   "version": "3.9.7"
  }
 },
 "nbformat": 4,
 "nbformat_minor": 5
}
