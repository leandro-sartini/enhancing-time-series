{
 "cells": [
  {
   "cell_type": "markdown",
   "id": "9f3d51df",
   "metadata": {},
   "source": [
    "## Enhancing Time Series |  Methods & How to "
   ]
  },
  {
   "cell_type": "markdown",
   "id": "0194d75f",
   "metadata": {},
   "source": [
    "<b> First let's start by importing the libs we need"
   ]
  },
  {
   "cell_type": "code",
   "execution_count": 42,
   "id": "3c3f7ea4",
   "metadata": {},
   "outputs": [],
   "source": [
    "from xgboost import XGBRegressor\n",
    "from prophet import Prophet\n",
    "import pandas as pd\n",
    "import seaborn as sns\n",
    "import matplotlib.pyplot as plt\n",
    "from sklearn.metrics import mean_absolute_error"
   ]
  },
  {
   "cell_type": "markdown",
   "id": "4e054962",
   "metadata": {},
   "source": [
    "<b> For these tests we will be using House Property Sales dataset https://www.kaggle.com/datasets/htagholdings/property-sales?select=raw_sales.csv"
   ]
  },
  {
   "cell_type": "code",
   "execution_count": 5,
   "id": "0111818f",
   "metadata": {},
   "outputs": [],
   "source": [
    "df = pd.read_csv('raw_sales.csv')"
   ]
  },
  {
   "cell_type": "markdown",
   "id": "8b915d59",
   "metadata": {},
   "source": [
    "<b> Let's first check our dataframe and see if we need to make some improvements to the df"
   ]
  },
  {
   "cell_type": "code",
   "execution_count": 6,
   "id": "564cd648",
   "metadata": {},
   "outputs": [
    {
     "data": {
      "text/plain": [
       "(29580, 5)"
      ]
     },
     "execution_count": 6,
     "metadata": {},
     "output_type": "execute_result"
    }
   ],
   "source": [
    "df.shape"
   ]
  },
  {
   "cell_type": "code",
   "execution_count": 8,
   "id": "16242c36",
   "metadata": {},
   "outputs": [
    {
     "data": {
      "text/plain": [
       "datesold        object\n",
       "postcode         int64\n",
       "price            int64\n",
       "propertyType    object\n",
       "bedrooms         int64\n",
       "dtype: object"
      ]
     },
     "execution_count": 8,
     "metadata": {},
     "output_type": "execute_result"
    }
   ],
   "source": [
    "df.dtypes"
   ]
  },
  {
   "cell_type": "markdown",
   "id": "54a987f9",
   "metadata": {},
   "source": [
    "<b> Let's correct our time column"
   ]
  },
  {
   "cell_type": "code",
   "execution_count": 10,
   "id": "145cd39d",
   "metadata": {},
   "outputs": [],
   "source": [
    "df['datesold'] = pd.to_datetime(df['datesold'])"
   ]
  },
  {
   "cell_type": "code",
   "execution_count": 11,
   "id": "acef70fe",
   "metadata": {},
   "outputs": [
    {
     "data": {
      "text/html": [
       "<div>\n",
       "<style scoped>\n",
       "    .dataframe tbody tr th:only-of-type {\n",
       "        vertical-align: middle;\n",
       "    }\n",
       "\n",
       "    .dataframe tbody tr th {\n",
       "        vertical-align: top;\n",
       "    }\n",
       "\n",
       "    .dataframe thead th {\n",
       "        text-align: right;\n",
       "    }\n",
       "</style>\n",
       "<table border=\"1\" class=\"dataframe\">\n",
       "  <thead>\n",
       "    <tr style=\"text-align: right;\">\n",
       "      <th></th>\n",
       "      <th>datesold</th>\n",
       "      <th>postcode</th>\n",
       "      <th>price</th>\n",
       "      <th>propertyType</th>\n",
       "      <th>bedrooms</th>\n",
       "    </tr>\n",
       "  </thead>\n",
       "  <tbody>\n",
       "    <tr>\n",
       "      <th>23120</th>\n",
       "      <td>2018-10-31</td>\n",
       "      <td>2906</td>\n",
       "      <td>750000</td>\n",
       "      <td>house</td>\n",
       "      <td>4</td>\n",
       "    </tr>\n",
       "    <tr>\n",
       "      <th>20753</th>\n",
       "      <td>2018-01-27</td>\n",
       "      <td>2913</td>\n",
       "      <td>687000</td>\n",
       "      <td>house</td>\n",
       "      <td>4</td>\n",
       "    </tr>\n",
       "  </tbody>\n",
       "</table>\n",
       "</div>"
      ],
      "text/plain": [
       "        datesold  postcode   price propertyType  bedrooms\n",
       "23120 2018-10-31      2906  750000        house         4\n",
       "20753 2018-01-27      2913  687000        house         4"
      ]
     },
     "execution_count": 11,
     "metadata": {},
     "output_type": "execute_result"
    }
   ],
   "source": [
    "df.sample(2)"
   ]
  },
  {
   "cell_type": "code",
   "execution_count": 13,
   "id": "8a3d125f",
   "metadata": {},
   "outputs": [
    {
     "data": {
      "text/plain": [
       "array(['house', 'unit'], dtype=object)"
      ]
     },
     "execution_count": 13,
     "metadata": {},
     "output_type": "execute_result"
    }
   ],
   "source": [
    "df['propertyType'].unique()"
   ]
  },
  {
   "cell_type": "code",
   "execution_count": 14,
   "id": "6a886528",
   "metadata": {},
   "outputs": [
    {
     "data": {
      "text/plain": [
       "27"
      ]
     },
     "execution_count": 14,
     "metadata": {},
     "output_type": "execute_result"
    }
   ],
   "source": [
    "df['postcode'].nunique()"
   ]
  },
  {
   "cell_type": "markdown",
   "id": "f8f921f1",
   "metadata": {},
   "source": [
    "<b> Let's suppose we want a model that can predict price of houses and units.\n",
    "    <br>     We will start with Prophet"
   ]
  },
  {
   "cell_type": "markdown",
   "id": "46af5b09",
   "metadata": {},
   "source": [
    "<b> To use prophet correct we need to transform the data column name to ds and the output in y"
   ]
  },
  {
   "cell_type": "code",
   "execution_count": 18,
   "id": "73a307e8",
   "metadata": {},
   "outputs": [],
   "source": [
    "df.rename(columns = {'datesold' : 'ds', 'price' : 'y'},inplace = True)"
   ]
  },
  {
   "cell_type": "code",
   "execution_count": 19,
   "id": "05bda120",
   "metadata": {},
   "outputs": [
    {
     "data": {
      "text/html": [
       "<div>\n",
       "<style scoped>\n",
       "    .dataframe tbody tr th:only-of-type {\n",
       "        vertical-align: middle;\n",
       "    }\n",
       "\n",
       "    .dataframe tbody tr th {\n",
       "        vertical-align: top;\n",
       "    }\n",
       "\n",
       "    .dataframe thead th {\n",
       "        text-align: right;\n",
       "    }\n",
       "</style>\n",
       "<table border=\"1\" class=\"dataframe\">\n",
       "  <thead>\n",
       "    <tr style=\"text-align: right;\">\n",
       "      <th></th>\n",
       "      <th>ds</th>\n",
       "      <th>postcode</th>\n",
       "      <th>y</th>\n",
       "      <th>propertyType</th>\n",
       "      <th>bedrooms</th>\n",
       "    </tr>\n",
       "  </thead>\n",
       "  <tbody>\n",
       "    <tr>\n",
       "      <th>2268</th>\n",
       "      <td>2010-04-19</td>\n",
       "      <td>2612</td>\n",
       "      <td>1110000</td>\n",
       "      <td>house</td>\n",
       "      <td>4</td>\n",
       "    </tr>\n",
       "    <tr>\n",
       "      <th>6792</th>\n",
       "      <td>2013-04-12</td>\n",
       "      <td>2906</td>\n",
       "      <td>391500</td>\n",
       "      <td>house</td>\n",
       "      <td>3</td>\n",
       "    </tr>\n",
       "  </tbody>\n",
       "</table>\n",
       "</div>"
      ],
      "text/plain": [
       "             ds  postcode        y propertyType  bedrooms\n",
       "2268 2010-04-19      2612  1110000        house         4\n",
       "6792 2013-04-12      2906   391500        house         3"
      ]
     },
     "execution_count": 19,
     "metadata": {},
     "output_type": "execute_result"
    }
   ],
   "source": [
    "df.sample(2)"
   ]
  },
  {
   "cell_type": "markdown",
   "id": "2c9960d3",
   "metadata": {},
   "source": [
    "<b> Now, what we also need is to define our train, test and validation."
   ]
  },
  {
   "cell_type": "code",
   "execution_count": 20,
   "id": "4f950d93",
   "metadata": {},
   "outputs": [
    {
     "data": {
      "text/plain": [
       "Timestamp('2007-02-07 00:00:00')"
      ]
     },
     "execution_count": 20,
     "metadata": {},
     "output_type": "execute_result"
    }
   ],
   "source": [
    "df['ds'].min()"
   ]
  },
  {
   "cell_type": "code",
   "execution_count": 21,
   "id": "49435e30",
   "metadata": {},
   "outputs": [
    {
     "data": {
      "text/plain": [
       "Timestamp('2019-07-27 00:00:00')"
      ]
     },
     "execution_count": 21,
     "metadata": {},
     "output_type": "execute_result"
    }
   ],
   "source": [
    "df['ds'].max()"
   ]
  },
  {
   "cell_type": "markdown",
   "id": "2217554c",
   "metadata": {},
   "source": [
    "<b> Let's use the final 2 months as our validation, and let's do a test with 1 month of data."
   ]
  },
  {
   "cell_type": "code",
   "execution_count": 25,
   "id": "c9685869",
   "metadata": {},
   "outputs": [],
   "source": [
    "train_df = df.loc[df['ds'] < '2019-05-01'].reset_index(drop = True).copy()"
   ]
  },
  {
   "cell_type": "code",
   "execution_count": 24,
   "id": "448d16dd",
   "metadata": {},
   "outputs": [],
   "source": [
    "test_df = df.loc[df['ds'].between('2019-05-01','2019-05-31')].reset_index(drop = True).copy()"
   ]
  },
  {
   "cell_type": "code",
   "execution_count": 23,
   "id": "3b16ed6b",
   "metadata": {},
   "outputs": [],
   "source": [
    "val_df = df.loc[df['ds'] >= '2019-05-31'].reset_index(drop = True).copy()"
   ]
  },
  {
   "cell_type": "markdown",
   "id": "8bf9acaa",
   "metadata": {},
   "source": [
    "<b> Now prophet isn't too much of a category friend so if we wanted one model per type of property we would have two models, and if we wanted one model per postal code and type we could have 54 models which is the n of type's * n of postal codes\n",
    "    <br> let's go simple and go with one model for houses."
   ]
  },
  {
   "cell_type": "code",
   "execution_count": 26,
   "id": "cb857a82",
   "metadata": {},
   "outputs": [],
   "source": [
    "ts_model = Prophet()"
   ]
  },
  {
   "cell_type": "code",
   "execution_count": 34,
   "id": "cef67e63",
   "metadata": {},
   "outputs": [],
   "source": [
    "train_houses = train_df.loc[train_df['propertyType'] == 'house'].reset_index(drop = True).copy()\n",
    "test_houses = test_df.loc[test_df['propertyType'] == 'house'].reset_index(drop = True).copy()"
   ]
  },
  {
   "cell_type": "code",
   "execution_count": 30,
   "id": "6d36b9b3",
   "metadata": {
    "scrolled": true
   },
   "outputs": [
    {
     "name": "stderr",
     "output_type": "stream",
     "text": [
      "INFO:prophet:Disabling daily seasonality. Run prophet with daily_seasonality=True to override this.\n"
     ]
    },
    {
     "data": {
      "text/plain": [
       "<prophet.forecaster.Prophet at 0x1b0021b8940>"
      ]
     },
     "execution_count": 30,
     "metadata": {},
     "output_type": "execute_result"
    }
   ],
   "source": [
    "ts_model.fit(train_houses)"
   ]
  },
  {
   "cell_type": "markdown",
   "id": "24595305",
   "metadata": {},
   "source": [
    "<b> From this point on our prophet has been trained, easy! Now we could be enhancing our model by moving the hyperparameters, and comparing against our test! Let's take a glimpse"
   ]
  },
  {
   "cell_type": "code",
   "execution_count": 43,
   "id": "72b6db13",
   "metadata": {},
   "outputs": [
    {
     "data": {
      "text/plain": [
       "186068.96569862726"
      ]
     },
     "execution_count": 43,
     "metadata": {},
     "output_type": "execute_result"
    }
   ],
   "source": [
    "mean_absolute_error(test_df['y'],ts_model.predict(test_df)['yhat'])"
   ]
  },
  {
   "cell_type": "code",
   "execution_count": 44,
   "id": "becf3cdd",
   "metadata": {},
   "outputs": [],
   "source": [
    "ts_model_hyper = Prophet(seasonality_prior_scale=15.0,\n",
    "                         holidays_prior_scale=20.0,\n",
    "                         changepoint_prior_scale=0.1)"
   ]
  },
  {
   "cell_type": "code",
   "execution_count": 45,
   "id": "40c1ddad",
   "metadata": {
    "scrolled": true
   },
   "outputs": [
    {
     "name": "stderr",
     "output_type": "stream",
     "text": [
      "INFO:prophet:Disabling daily seasonality. Run prophet with daily_seasonality=True to override this.\n"
     ]
    },
    {
     "data": {
      "text/plain": [
       "<prophet.forecaster.Prophet at 0x1b004e19610>"
      ]
     },
     "execution_count": 45,
     "metadata": {},
     "output_type": "execute_result"
    }
   ],
   "source": [
    "ts_model_hyper.fit(train_houses)"
   ]
  },
  {
   "cell_type": "code",
   "execution_count": 46,
   "id": "0e78f143",
   "metadata": {},
   "outputs": [
    {
     "data": {
      "text/plain": [
       "186189.25730108883"
      ]
     },
     "execution_count": 46,
     "metadata": {},
     "output_type": "execute_result"
    }
   ],
   "source": [
    "mean_absolute_error(test_df['y'],ts_model_hyper.predict(test_df)['yhat'])"
   ]
  },
  {
   "cell_type": "markdown",
   "id": "bf6aecf6",
   "metadata": {},
   "source": [
    "<b> From this point on to enhance with hyperparameters by themselves, the best option would by a Search Grid. So let's validate in our val_df"
   ]
  },
  {
   "cell_type": "code",
   "execution_count": 47,
   "id": "f4f56ac7",
   "metadata": {},
   "outputs": [
    {
     "data": {
      "text/plain": [
       "198998.9496292133"
      ]
     },
     "execution_count": 47,
     "metadata": {},
     "output_type": "execute_result"
    }
   ],
   "source": [
    "mean_absolute_error(val_df['y'],ts_model.predict(val_df)['yhat'])"
   ]
  },
  {
   "cell_type": "code",
   "execution_count": 48,
   "id": "d31dd1ac",
   "metadata": {},
   "outputs": [
    {
     "data": {
      "text/plain": [
       "199050.64572794279"
      ]
     },
     "execution_count": 48,
     "metadata": {},
     "output_type": "execute_result"
    }
   ],
   "source": [
    "mean_absolute_error(val_df['y'],ts_model_hyper.predict(val_df)['yhat'])"
   ]
  },
  {
   "cell_type": "markdown",
   "id": "c8a7bf3b",
   "metadata": {},
   "source": [
    "<b> We get a model, that has an error pretty like our tests, it deprecated just a little bit which is normal but is useful."
   ]
  },
  {
   "cell_type": "code",
   "execution_count": 49,
   "id": "1fd9f1be",
   "metadata": {},
   "outputs": [],
   "source": [
    "############################################"
   ]
  },
  {
   "cell_type": "markdown",
   "id": "dd91aa13",
   "metadata": {},
   "source": [
    "## Let's change to XGBoost"
   ]
  },
  {
   "cell_type": "markdown",
   "id": "2f674c2a",
   "metadata": {},
   "source": [
    "<b> With XGBoost we will have to do a little bit of variable engineering, so let's start by transforming propertyType in bool"
   ]
  },
  {
   "cell_type": "code",
   "execution_count": 79,
   "id": "cd571440",
   "metadata": {},
   "outputs": [],
   "source": [
    "df['property_type'] = df['propertyType'].map({'house' : 1, 'unit' : 0})"
   ]
  },
  {
   "cell_type": "code",
   "execution_count": 108,
   "id": "88475fed",
   "metadata": {},
   "outputs": [],
   "source": [
    "df_xgb = df.copy()"
   ]
  },
  {
   "cell_type": "markdown",
   "id": "f013fc3b",
   "metadata": {},
   "source": [
    "<b> Now XGBoost won't understand data columns so we have to create the specific columns for each variable"
   ]
  },
  {
   "cell_type": "code",
   "execution_count": 109,
   "id": "2baab472",
   "metadata": {},
   "outputs": [],
   "source": [
    "df_xgb['day'] = df_xgb['ds'].dt.day\n",
    "df_xgb['month'] = df_xgb['ds'].dt.month\n",
    "df_xgb['year'] = df_xgb['ds'].dt.year"
   ]
  },
  {
   "cell_type": "code",
   "execution_count": 110,
   "id": "7fd56603",
   "metadata": {},
   "outputs": [
    {
     "data": {
      "text/html": [
       "<div>\n",
       "<style scoped>\n",
       "    .dataframe tbody tr th:only-of-type {\n",
       "        vertical-align: middle;\n",
       "    }\n",
       "\n",
       "    .dataframe tbody tr th {\n",
       "        vertical-align: top;\n",
       "    }\n",
       "\n",
       "    .dataframe thead th {\n",
       "        text-align: right;\n",
       "    }\n",
       "</style>\n",
       "<table border=\"1\" class=\"dataframe\">\n",
       "  <thead>\n",
       "    <tr style=\"text-align: right;\">\n",
       "      <th></th>\n",
       "      <th>ds</th>\n",
       "      <th>postcode</th>\n",
       "      <th>y</th>\n",
       "      <th>propertyType</th>\n",
       "      <th>bedrooms</th>\n",
       "      <th>property_type</th>\n",
       "      <th>day</th>\n",
       "      <th>month</th>\n",
       "      <th>year</th>\n",
       "    </tr>\n",
       "  </thead>\n",
       "  <tbody>\n",
       "    <tr>\n",
       "      <th>399</th>\n",
       "      <td>2008-09-30</td>\n",
       "      <td>2614</td>\n",
       "      <td>372000</td>\n",
       "      <td>house</td>\n",
       "      <td>3</td>\n",
       "      <td>1</td>\n",
       "      <td>30</td>\n",
       "      <td>9</td>\n",
       "      <td>2008</td>\n",
       "    </tr>\n",
       "    <tr>\n",
       "      <th>3279</th>\n",
       "      <td>2010-12-15</td>\n",
       "      <td>2611</td>\n",
       "      <td>393000</td>\n",
       "      <td>house</td>\n",
       "      <td>3</td>\n",
       "      <td>1</td>\n",
       "      <td>15</td>\n",
       "      <td>12</td>\n",
       "      <td>2010</td>\n",
       "    </tr>\n",
       "  </tbody>\n",
       "</table>\n",
       "</div>"
      ],
      "text/plain": [
       "             ds  postcode       y propertyType  bedrooms  property_type  day  month  year\n",
       "399  2008-09-30      2614  372000        house         3              1   30      9  2008\n",
       "3279 2010-12-15      2611  393000        house         3              1   15     12  2010"
      ]
     },
     "execution_count": 110,
     "metadata": {},
     "output_type": "execute_result"
    }
   ],
   "source": [
    "df_xgb.sample(2)"
   ]
  },
  {
   "cell_type": "markdown",
   "id": "e0a81d83",
   "metadata": {},
   "source": [
    "<b> Now our other biggest step is to create the sliding window, for this test we will be using 28 days as our sliding window"
   ]
  },
  {
   "cell_type": "code",
   "execution_count": 111,
   "id": "aae087b8",
   "metadata": {},
   "outputs": [],
   "source": [
    "df_xgb.sort_values(['propertyType','postcode','ds'],ignore_index = True,inplace = True)"
   ]
  },
  {
   "cell_type": "code",
   "execution_count": 112,
   "id": "e297f861",
   "metadata": {},
   "outputs": [
    {
     "data": {
      "text/html": [
       "<div>\n",
       "<style scoped>\n",
       "    .dataframe tbody tr th:only-of-type {\n",
       "        vertical-align: middle;\n",
       "    }\n",
       "\n",
       "    .dataframe tbody tr th {\n",
       "        vertical-align: top;\n",
       "    }\n",
       "\n",
       "    .dataframe thead th {\n",
       "        text-align: right;\n",
       "    }\n",
       "</style>\n",
       "<table border=\"1\" class=\"dataframe\">\n",
       "  <thead>\n",
       "    <tr style=\"text-align: right;\">\n",
       "      <th></th>\n",
       "      <th>ds</th>\n",
       "      <th>postcode</th>\n",
       "      <th>y</th>\n",
       "      <th>propertyType</th>\n",
       "      <th>bedrooms</th>\n",
       "      <th>property_type</th>\n",
       "      <th>day</th>\n",
       "      <th>month</th>\n",
       "      <th>year</th>\n",
       "    </tr>\n",
       "  </thead>\n",
       "  <tbody>\n",
       "    <tr>\n",
       "      <th>19241</th>\n",
       "      <td>2016-10-18</td>\n",
       "      <td>2906</td>\n",
       "      <td>547000</td>\n",
       "      <td>house</td>\n",
       "      <td>4</td>\n",
       "      <td>1</td>\n",
       "      <td>18</td>\n",
       "      <td>10</td>\n",
       "      <td>2016</td>\n",
       "    </tr>\n",
       "    <tr>\n",
       "      <th>16762</th>\n",
       "      <td>2013-09-19</td>\n",
       "      <td>2905</td>\n",
       "      <td>451000</td>\n",
       "      <td>house</td>\n",
       "      <td>3</td>\n",
       "      <td>1</td>\n",
       "      <td>19</td>\n",
       "      <td>9</td>\n",
       "      <td>2013</td>\n",
       "    </tr>\n",
       "  </tbody>\n",
       "</table>\n",
       "</div>"
      ],
      "text/plain": [
       "              ds  postcode       y propertyType  bedrooms  property_type  day  month  year\n",
       "19241 2016-10-18      2906  547000        house         4              1   18     10  2016\n",
       "16762 2013-09-19      2905  451000        house         3              1   19      9  2013"
      ]
     },
     "execution_count": 112,
     "metadata": {},
     "output_type": "execute_result"
    }
   ],
   "source": [
    "df_xgb.sample(2)"
   ]
  },
  {
   "cell_type": "markdown",
   "id": "4353ab40",
   "metadata": {},
   "source": [
    "<b> This is tricky, we have to group it by our other \"category\" variables and then we have to shift without the data so that the data remains on the grouped df"
   ]
  },
  {
   "cell_type": "code",
   "execution_count": 118,
   "id": "3e8a2d1f",
   "metadata": {},
   "outputs": [],
   "source": [
    "df_xgb['bedrooms_var'] = df_xgb.groupby(['propertyType','postcode'])['bedrooms'].shift(28)"
   ]
  },
  {
   "cell_type": "markdown",
   "id": "8001289a",
   "metadata": {},
   "source": [
    "<b> Final steps, let's do the separation by train,test and val"
   ]
  },
  {
   "cell_type": "code",
   "execution_count": 119,
   "id": "89fbd372",
   "metadata": {},
   "outputs": [],
   "source": [
    "train_df = df_xgb.loc[df_xgb['ds'] < '2019-05-01'].reset_index(drop = True).copy()"
   ]
  },
  {
   "cell_type": "code",
   "execution_count": 125,
   "id": "085910d6",
   "metadata": {},
   "outputs": [],
   "source": [
    "train_df = train_df.loc[train_df['bedrooms_var'].notnull()].reset_index(drop = True).copy()"
   ]
  },
  {
   "cell_type": "code",
   "execution_count": 126,
   "id": "84375f93",
   "metadata": {},
   "outputs": [],
   "source": [
    "test_df = df_xgb.loc[df_xgb['ds'].between('2019-05-01','2019-05-31')].reset_index(drop = True).copy()"
   ]
  },
  {
   "cell_type": "code",
   "execution_count": 127,
   "id": "b039be2b",
   "metadata": {},
   "outputs": [],
   "source": [
    "val_df = df_xgb.loc[df_xgb['ds'] >= '2019-05-31'].reset_index(drop = True).copy()"
   ]
  },
  {
   "cell_type": "markdown",
   "id": "d00a71f7",
   "metadata": {},
   "source": [
    "<b> Now as you can see, we don't have to create loads of models, just one XGBoost for all of them!"
   ]
  },
  {
   "cell_type": "code",
   "execution_count": 129,
   "id": "986a9e5f",
   "metadata": {},
   "outputs": [
    {
     "data": {
      "text/html": [
       "<div>\n",
       "<style scoped>\n",
       "    .dataframe tbody tr th:only-of-type {\n",
       "        vertical-align: middle;\n",
       "    }\n",
       "\n",
       "    .dataframe tbody tr th {\n",
       "        vertical-align: top;\n",
       "    }\n",
       "\n",
       "    .dataframe thead th {\n",
       "        text-align: right;\n",
       "    }\n",
       "</style>\n",
       "<table border=\"1\" class=\"dataframe\">\n",
       "  <thead>\n",
       "    <tr style=\"text-align: right;\">\n",
       "      <th></th>\n",
       "      <th>ds</th>\n",
       "      <th>postcode</th>\n",
       "      <th>y</th>\n",
       "      <th>propertyType</th>\n",
       "      <th>bedrooms</th>\n",
       "      <th>property_type</th>\n",
       "      <th>day</th>\n",
       "      <th>month</th>\n",
       "      <th>year</th>\n",
       "      <th>bedrooms_var</th>\n",
       "    </tr>\n",
       "  </thead>\n",
       "  <tbody>\n",
       "    <tr>\n",
       "      <th>14468</th>\n",
       "      <td>2012-05-24</td>\n",
       "      <td>2904</td>\n",
       "      <td>450000</td>\n",
       "      <td>house</td>\n",
       "      <td>4</td>\n",
       "      <td>1</td>\n",
       "      <td>24</td>\n",
       "      <td>5</td>\n",
       "      <td>2012</td>\n",
       "      <td>4.0</td>\n",
       "    </tr>\n",
       "    <tr>\n",
       "      <th>25663</th>\n",
       "      <td>2018-09-03</td>\n",
       "      <td>2607</td>\n",
       "      <td>468000</td>\n",
       "      <td>unit</td>\n",
       "      <td>2</td>\n",
       "      <td>0</td>\n",
       "      <td>3</td>\n",
       "      <td>9</td>\n",
       "      <td>2018</td>\n",
       "      <td>2.0</td>\n",
       "    </tr>\n",
       "  </tbody>\n",
       "</table>\n",
       "</div>"
      ],
      "text/plain": [
       "              ds  postcode       y propertyType  bedrooms  property_type  day  month  year  bedrooms_var\n",
       "14468 2012-05-24      2904  450000        house         4              1   24      5  2012           4.0\n",
       "25663 2018-09-03      2607  468000         unit         2              0    3      9  2018           2.0"
      ]
     },
     "execution_count": 129,
     "metadata": {},
     "output_type": "execute_result"
    }
   ],
   "source": [
    "train_df.sample(2)"
   ]
  },
  {
   "cell_type": "code",
   "execution_count": 140,
   "id": "1e2029e6",
   "metadata": {},
   "outputs": [],
   "source": [
    "xgb_model = XGBRegressor(n_estimators = 800)"
   ]
  },
  {
   "cell_type": "code",
   "execution_count": 141,
   "id": "fd021d15",
   "metadata": {},
   "outputs": [
    {
     "data": {
      "text/plain": [
       "XGBRegressor(base_score=0.5, booster='gbtree', colsample_bylevel=1,\n",
       "             colsample_bynode=1, colsample_bytree=1, enable_categorical=False,\n",
       "             gamma=0, gpu_id=-1, importance_type=None,\n",
       "             interaction_constraints='', learning_rate=0.300000012,\n",
       "             max_delta_step=0, max_depth=6, min_child_weight=1, missing=nan,\n",
       "             monotone_constraints='()', n_estimators=800, n_jobs=8,\n",
       "             num_parallel_tree=1, predictor='auto', random_state=0, reg_alpha=0,\n",
       "             reg_lambda=1, scale_pos_weight=1, subsample=1, tree_method='exact',\n",
       "             validate_parameters=1, verbosity=None)"
      ]
     },
     "execution_count": 141,
     "metadata": {},
     "output_type": "execute_result"
    }
   ],
   "source": [
    "xgb_model.fit(train_df[['property_type','postcode','year','month','day','bedrooms_var']],train_df['y'])"
   ]
  },
  {
   "cell_type": "code",
   "execution_count": 142,
   "id": "0a3dd98e",
   "metadata": {},
   "outputs": [
    {
     "data": {
      "text/plain": [
       "147371.90397727274"
      ]
     },
     "execution_count": 142,
     "metadata": {},
     "output_type": "execute_result"
    }
   ],
   "source": [
    "mean_absolute_error(test_df['y'],xgb_model.predict(test_df[['property_type','postcode','year','month','day','bedrooms_var']]))"
   ]
  },
  {
   "cell_type": "markdown",
   "id": "648f3ff1",
   "metadata": {},
   "source": [
    "<b> With a little bit more of work we could get out xgb to predict 1 month ahead with 40K less price error than the prophet"
   ]
  },
  {
   "cell_type": "markdown",
   "id": "936afee9",
   "metadata": {},
   "source": [
    "<b> From this point on our prophet has been trained, easy! Now we could be enhancing our model by moving the hyperparameters, and comparing against our test! Let's take a glimpse"
   ]
  },
  {
   "cell_type": "code",
   "execution_count": 143,
   "id": "700a9843",
   "metadata": {},
   "outputs": [],
   "source": [
    "xgb_model_hyper = XGBRegressor(n_estimators = 1500,learning_rate = 0.003)"
   ]
  },
  {
   "cell_type": "code",
   "execution_count": 144,
   "id": "aff5199f",
   "metadata": {},
   "outputs": [
    {
     "data": {
      "text/plain": [
       "XGBRegressor(base_score=0.5, booster='gbtree', colsample_bylevel=1,\n",
       "             colsample_bynode=1, colsample_bytree=1, enable_categorical=False,\n",
       "             gamma=0, gpu_id=-1, importance_type=None,\n",
       "             interaction_constraints='', learning_rate=0.003, max_delta_step=0,\n",
       "             max_depth=6, min_child_weight=1, missing=nan,\n",
       "             monotone_constraints='()', n_estimators=1500, n_jobs=8,\n",
       "             num_parallel_tree=1, predictor='auto', random_state=0, reg_alpha=0,\n",
       "             reg_lambda=1, scale_pos_weight=1, subsample=1, tree_method='exact',\n",
       "             validate_parameters=1, verbosity=None)"
      ]
     },
     "execution_count": 144,
     "metadata": {},
     "output_type": "execute_result"
    }
   ],
   "source": [
    "xgb_model_hyper.fit(train_df[['property_type','postcode','year','month','day','bedrooms_var']],train_df['y'])"
   ]
  },
  {
   "cell_type": "code",
   "execution_count": 145,
   "id": "2c669895",
   "metadata": {},
   "outputs": [
    {
     "data": {
      "text/plain": [
       "116829.61022727273"
      ]
     },
     "execution_count": 145,
     "metadata": {},
     "output_type": "execute_result"
    }
   ],
   "source": [
    "mean_absolute_error(test_df['y'],xgb_model_hyper.predict(test_df[['property_type','postcode','year','month','day','bedrooms_var']]))"
   ]
  },
  {
   "cell_type": "markdown",
   "id": "1a723ff3",
   "metadata": {},
   "source": [
    "<b> Moving a little bit someparameters we could enhance it even more in test, now let's check in validation"
   ]
  },
  {
   "cell_type": "code",
   "execution_count": 146,
   "id": "67cd57dd",
   "metadata": {},
   "outputs": [
    {
     "data": {
      "text/plain": [
       "151434.13351723584"
      ]
     },
     "execution_count": 146,
     "metadata": {},
     "output_type": "execute_result"
    }
   ],
   "source": [
    "mean_absolute_error(val_df['y'],xgb_model.predict(val_df[['property_type','postcode','year','month','day','bedrooms_var']]))"
   ]
  },
  {
   "cell_type": "code",
   "execution_count": 147,
   "id": "9655f536",
   "metadata": {},
   "outputs": [
    {
     "data": {
      "text/plain": [
       "125283.40745811856"
      ]
     },
     "execution_count": 147,
     "metadata": {},
     "output_type": "execute_result"
    }
   ],
   "source": [
    "mean_absolute_error(val_df['y'],xgb_model_hyper.predict(val_df[['property_type','postcode','year','month','day','bedrooms_var']]))"
   ]
  },
  {
   "cell_type": "markdown",
   "id": "5c07a7ee",
   "metadata": {},
   "source": [
    "<b> That's it! I hope you enjoyed the class and the material.\n",
    "    <br> In case you need any help, i will be happy to help! You can contact me via LinkedIn https://www.linkedin.com/in/leandro-sartini-de-campos-64343915b/"
   ]
  }
 ],
 "metadata": {
  "kernelspec": {
   "display_name": "Python 3 (ipykernel)",
   "language": "python",
   "name": "python3"
  },
  "language_info": {
   "codemirror_mode": {
    "name": "ipython",
    "version": 3
   },
   "file_extension": ".py",
   "mimetype": "text/x-python",
   "name": "python",
   "nbconvert_exporter": "python",
   "pygments_lexer": "ipython3",
   "version": "3.9.7"
  }
 },
 "nbformat": 4,
 "nbformat_minor": 5
}
